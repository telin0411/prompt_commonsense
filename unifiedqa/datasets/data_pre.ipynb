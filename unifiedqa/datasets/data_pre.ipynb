{
 "cells": [
  {
   "cell_type": "code",
   "execution_count": null,
   "outputs": [],
   "source": [
    "\"\"\"common sense QA DATA\"\"\""
   ],
   "metadata": {
    "collapsed": false,
    "pycharm": {
     "name": "#%%\n"
    }
   }
  },
  {
   "cell_type": "code",
   "execution_count": 9,
   "metadata": {
    "collapsed": true,
    "pycharm": {
     "name": "#%% processing csqa and cose\n"
    }
   },
   "outputs": [],
   "source": [
    "import pandas as pd\n",
    "\n",
    "split = 'dev'\n",
    "data_cose = pd.read_json(f'./cose/{split}_cose.jsonl', lines=True)\n",
    "data_csqa = pd.read_json(f'./csqa/{split}_csqa.jsonl', lines=True)"
   ]
  },
  {
   "cell_type": "code",
   "execution_count": 13,
   "outputs": [],
   "source": [
    "import random\n",
    "def qa2text(question, answer):\n",
    "    question = question.lower()\n",
    "    question = question.replace('?', '.')\n",
    "    question = question.replace('what', answer)\n",
    "    question = question.replace('how', answer)\n",
    "    question = question.replace('why', answer)\n",
    "    question = question.replace('when', answer)\n",
    "    question = question.replace('where', answer)\n",
    "    return question\n",
    "\n",
    "data_pos = []\n",
    "data_neg = []\n",
    "for idx, row in data_csqa.iterrows():\n",
    "    str2int = {'A': 0, 'B': 1, 'C': 2, 'D': 3, 'E': 4}\n",
    "    # find the correct answer\n",
    "    answerKey = row['answerKey']        # 'A' or 'B' or 'C' ...\n",
    "    question = row['question']['stem']  # a statement ending with '?' containing 'what', 'how'...\n",
    "    answer_t = row['question']['choices'][str2int[answerKey]]['text']\n",
    "    statement_t = qa2text(question, answer_t)\n",
    "\n",
    "    # find the incorrect answer\n",
    "    str2int.pop(answerKey)\n",
    "    answerKey = random.choice([k for k in str2int.keys()])\n",
    "    answer_f = row['question']['choices'][str2int[answerKey]]['text']\n",
    "    statement_f = qa2text(question, answer_f)\n",
    "\n",
    "    data_pos.append({'id': row['id'],\n",
    "                     'statement': statement_t,\n",
    "                     'label': 1})\n",
    "    data_neg.append({'id': row['id'],\n",
    "                     'statement': statement_f,\n",
    "                     'label': 0})\n"
   ],
   "metadata": {
    "collapsed": false,
    "pycharm": {
     "name": "#%%\n"
    }
   }
  },
  {
   "cell_type": "code",
   "execution_count": 14,
   "outputs": [],
   "source": [
    "data_pos_e = []\n",
    "data_neg_e = []\n",
    "for idx, row in data_cose.iterrows():\n",
    "    for sample in data_pos:\n",
    "        if row['id'] == sample['id']:\n",
    "            sample.update({'explanation': row['explanation']['open-ended']})\n",
    "            data_pos_e.append(sample)"
   ],
   "metadata": {
    "collapsed": false,
    "pycharm": {
     "name": "#%%\n"
    }
   }
  },
  {
   "cell_type": "code",
   "execution_count": 15,
   "outputs": [],
   "source": [
    "data_pos_e = pd.DataFrame(data_pos_e)\n",
    "data_pos_e.to_json(f'./com2sense/{split}_pos.json', indent=4, orient='records')"
   ],
   "metadata": {
    "collapsed": false,
    "pycharm": {
     "name": "#%%\n"
    }
   }
  },
  {
   "cell_type": "code",
   "execution_count": null,
   "outputs": [],
   "source": [
    "\"\"\"sem-eval DATA\"\"\""
   ],
   "metadata": {
    "collapsed": false,
    "pycharm": {
     "name": "#%%\n"
    }
   }
  },
  {
   "cell_type": "code",
   "execution_count": 8,
   "outputs": [
    {
     "data": {
      "text/plain": "\"\\ndata = []\\nfor index, row in data_sem_eval.iterrows():\\n    statement_f = row['Incorrect Statement']\\n    explanation_f = row['Right Reason1']\\n    data.append({'id': index,\\n                 'statement': statement_f,\\n                 'explanation': explanation_f,\\n                 'label': 0})\\n\\ndata = pd.DataFrame(data)\\ndata.to_json(f'./com2sense/{split}_neg.json', indent=4, orient='records')\\n\""
     },
     "execution_count": 8,
     "metadata": {},
     "output_type": "execute_result"
    }
   ],
   "source": [
    "import pandas as pd\n",
    "\n",
    "split = 'dev'\n",
    "data_sem_eval = pd.read_csv(f'./sem-eval/{split}.csv')\n",
    "\n",
    "data = []\n",
    "for index, row in data_sem_eval.iterrows():\n",
    "    statement_f = row['Incorrect Statement']\n",
    "    explanation_f = row['Right Reason1']\n",
    "    data.append({'id': index,\n",
    "                 'statement': statement_f,\n",
    "                 'explanation': explanation_f,\n",
    "                 'label': 0})\n",
    "\n",
    "data = pd.DataFrame(data)\n",
    "data.to_json(f'./com2sense/{split}_neg.json', indent=4, orient='records')"
   ],
   "metadata": {
    "collapsed": false,
    "pycharm": {
     "name": "#%%\n"
    }
   }
  },
  {
   "cell_type": "code",
   "execution_count": 6,
   "outputs": [],
   "source": [
    "\"\"\"TRUNCATE 2 DATASETS\"\"\"\n",
    "import pandas as pd\n",
    "split = 'train'\n",
    "data_pos = pd.read_json(f'com2sense/{split}_pos.json')\n",
    "data_neg = pd.read_json(f'com2sense/{split}_neg.json')\n",
    "\n",
    "if len(data_pos) < len(data_neg):\n",
    "    data_neg = data_neg[0: len(data_pos)]\n",
    "else:\n",
    "    data_pos = data_pos[0: len(data_neg)]\n",
    "\n",
    "data = pd.concat([data_neg, data_pos])\n",
    "data.to_json(f'./com2sense/{split}.json', indent=4, orient='records')\n"
   ],
   "metadata": {
    "collapsed": false,
    "pycharm": {
     "name": "#%%\n"
    }
   }
  }
 ],
 "metadata": {
  "kernelspec": {
   "display_name": "Python 3",
   "language": "python",
   "name": "python3"
  },
  "language_info": {
   "codemirror_mode": {
    "name": "ipython",
    "version": 2
   },
   "file_extension": ".py",
   "mimetype": "text/x-python",
   "name": "python",
   "nbconvert_exporter": "python",
   "pygments_lexer": "ipython2",
   "version": "2.7.6"
  }
 },
 "nbformat": 4,
 "nbformat_minor": 0
}