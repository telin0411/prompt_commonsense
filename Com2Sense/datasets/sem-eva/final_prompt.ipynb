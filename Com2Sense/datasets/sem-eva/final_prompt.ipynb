{
 "cells": [
  {
   "cell_type": "code",
   "execution_count": 7,
   "id": "ebd0eda7",
   "metadata": {},
   "outputs": [],
   "source": [
    "import pandas as pd\n",
    "\n",
    "def final_prompt(df):\n",
    "    df_new = []\n",
    "    \n",
    "    for index, row in df.iterrows():\n",
    "        for entity in row['entity']:\n",
    "            df_new.append({'sentence': f\"{row['sent']}, because {entity} is used to <mask>\", 'label': row['label']})\n",
    "    \n",
    "    return pd.DataFrame(df_new)\n",
    "\n",
    "if __name__ == '__main__':\n",
    "    df_train = pd.read_json('~/yx/prompt_commonsense/entity_extractor_simpler/datasets/sem-eval/sem-eval_train.json')\n",
    "    df_test = pd.read_json('~/yx/prompt_commonsense/entity_extractor_simpler/datasets/sem-eval/sem-eval_train.json')\n",
    "    df_dev = pd.read_json('~/yx/prompt_commonsense/entity_extractor_simpler/datasets/sem-eval/sem-eval_train.json')\n",
    "    \n",
    "    df_train_entity = final_prompt(df_train)\n",
    "    df_test_entity = final_prompt(df_test)\n",
    "    df_dev_entity = final_prompt(df_dev)\n",
    "\n",
    "    df_train_entity.to_csv(\"~/yx/prompt_commonsense/autoprompt-master/datasets/sem-eval/sem-eval_train_gt.tsv\",\n",
    "                          sep='\\t', index=False)\n",
    "    df_test_entity.to_csv(\"~/yx/prompt_commonsense/autoprompt-master/datasets/sem-eval/sem-eval_test_gt.tsv\",\n",
    "                         sep='\\t', index=False)\n",
    "    df_dev_entity.to_csv(\"~/yx/prompt_commonsense/autoprompt-master/datasets/sem-eval/sem-eval_dev_gt.tsv\",\n",
    "                        sep='\\t', index=False)\n",
    "\n"
   ]
  },
  {
   "cell_type": "code",
   "execution_count": null,
   "id": "4bde6bba",
   "metadata": {},
   "outputs": [],
   "source": []
  }
 ],
 "metadata": {
  "kernelspec": {
   "display_name": "Python 3 (ipykernel)",
   "language": "python",
   "name": "python3"
  },
  "language_info": {
   "codemirror_mode": {
    "name": "ipython",
    "version": 3
   },
   "file_extension": ".py",
   "mimetype": "text/x-python",
   "name": "python",
   "nbconvert_exporter": "python",
   "pygments_lexer": "ipython3",
   "version": "3.8.10"
  }
 },
 "nbformat": 4,
 "nbformat_minor": 5
}
